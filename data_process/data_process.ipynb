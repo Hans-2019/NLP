{
 "cells": [
  {
   "cell_type": "code",
   "execution_count": 1,
   "metadata": {},
   "outputs": [],
   "source": [
    "import json"
   ]
  },
  {
   "cell_type": "code",
   "execution_count": 2,
   "metadata": {},
   "outputs": [],
   "source": [
    "with open('raw_valid_label.json','r') as f:\n",
    "    valid=json.load(f)\n",
    "with open('raw_test_label.json','r') as f:\n",
    "    test=json.load(f)\n",
    "with open('raw_train_label.json','r') as f:\n",
    "    train=json.load(f)"
   ]
  },
  {
   "cell_type": "code",
   "execution_count": 3,
   "metadata": {},
   "outputs": [],
   "source": [
    "def entity_tag_product(dict_data):\n",
    "    entity_tag=[]\n",
    "    for line in dict_data['entity_tag']:\n",
    "        a=[0 for i in range(100)]\n",
    "        for i in line:\n",
    "            order,label=i.split('&')\n",
    "            if label=='S':\n",
    "                a[int(order)]=1\n",
    "            elif label=='B':\n",
    "                a[int(order)]=2\n",
    "            elif label=='E':\n",
    "                a[int(order)]=3\n",
    "            else:\n",
    "                a[int(order)]=4\n",
    "        entity_tag.append(a)\n",
    "    return entity_tag"
   ]
  },
  {
   "cell_type": "code",
   "execution_count": 4,
   "metadata": {},
   "outputs": [],
   "source": [
    "with open('train_label.json','w') as f:\n",
    "    json.dump(entity_tag_product(train), f)\n",
    "with open('test_label.json','w') as f:\n",
    "    json.dump(entity_tag_product(test), f)\n",
    "with open('valid_label.json','w') as f:\n",
    "    json.dump(entity_tag_product(valid), f)"
   ]
  },
  {
   "cell_type": "code",
   "execution_count": 5,
   "metadata": {},
   "outputs": [],
   "source": [
    "relation={}\n",
    "with open('relation_label_tag.txt','r') as f:\n",
    "    lines=f.readlines()\n",
    "for i in lines:\n",
    "    rr=i.strip().split(' ')\n",
    "    relation[rr[0]]=int(rr[1])"
   ]
  },
  {
   "cell_type": "code",
   "execution_count": 13,
   "metadata": {},
   "outputs": [],
   "source": [
    "def relation_tag_product(dict_data):\n",
    "    relation_tag=[]\n",
    "    for line in dict_data['relation_tag']:\n",
    "        a=[[0 for i in range(48)] for i in range(100)]\n",
    "        for i in line:\n",
    "            order,tag=i.split('&')\n",
    "            tag=tag.split('#')\n",
    "            for j in tag:\n",
    "                a[int(order)][relation[j]-1]=1\n",
    "        relation_tag.append(a)\n",
    "    return relation_tag"
   ]
  },
  {
   "cell_type": "code",
   "execution_count": 14,
   "metadata": {},
   "outputs": [],
   "source": [
    "with open('train_relation_tag.json','w') as f:\n",
    "    json.dump(relation_tag_product(train), f)\n",
    "with open('valid_relation_tag.json','w') as f:\n",
    "    json.dump(relation_tag_product(valid), f)\n",
    "with open('test_relation_tag.json','w') as f:\n",
    "    json.dump(relation_tag_product(test), f)"
   ]
  },
  {
   "cell_type": "code",
   "execution_count": 2,
   "metadata": {},
   "outputs": [],
   "source": [
    "with open('vocab.txt','r') as f:\n",
    "    gg=f.readlines()\n",
    "vocab={}\n",
    "vocab[' ']=0\n",
    "num=0\n",
    "for i in gg:\n",
    "    num+=1\n",
    "    i.strip()\n",
    "    a,b=i.split()\n",
    "    vocab[a.lower()]=num\n",
    "vocab_set=set(vocab.keys())\n",
    "vocab_num=len(vocab.keys())"
   ]
  },
  {
   "cell_type": "code",
   "execution_count": 3,
   "metadata": {},
   "outputs": [],
   "source": [
    "with open('vocab_dic.json','w') as f:\n",
    "    json.dump(vocab,f)"
   ]
  },
  {
   "cell_type": "code",
   "execution_count": 16,
   "metadata": {},
   "outputs": [],
   "source": [
    "def text_data_product(dict_data):\n",
    "    text_data=[]\n",
    "    for line in dict_data['text_data']:\n",
    "        a=[]\n",
    "        line_words=line.strip().split()\n",
    "        for j in line_words:\n",
    "            j=j.lower()\n",
    "            if j not in vocab_set:\n",
    "                a.append(vocab_num)\n",
    "            else:\n",
    "                a.append(vocab[j])\n",
    "        a.extend([0]*(100-len(a)))\n",
    "        text_data.append(a)\n",
    "    return text_data"
   ]
  },
  {
   "cell_type": "code",
   "execution_count": 17,
   "metadata": {},
   "outputs": [],
   "source": [
    "with open('valid_text_data.json','w') as f:\n",
    "    json.dump(text_data_product(valid), f)\n",
    "with open('train_text_data.json','w') as f:\n",
    "    json.dump(text_data_product(train), f)\n",
    "with open('test_text_data.json','w') as f:\n",
    "    json.dump(text_data_product(test), f)"
   ]
  },
  {
   "cell_type": "code",
   "execution_count": null,
   "metadata": {},
   "outputs": [],
   "source": []
  }
 ],
 "metadata": {
  "kernelspec": {
   "display_name": "Python 3",
   "language": "python",
   "name": "python3"
  },
  "language_info": {
   "codemirror_mode": {
    "name": "ipython",
    "version": 3
   },
   "file_extension": ".py",
   "mimetype": "text/x-python",
   "name": "python",
   "nbconvert_exporter": "python",
   "pygments_lexer": "ipython3",
   "version": "3.7.4"
  }
 },
 "nbformat": 4,
 "nbformat_minor": 2
}
